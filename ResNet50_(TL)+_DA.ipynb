{
 "cells": [
  {
   "cell_type": "code",
   "execution_count": null,
   "metadata": {},
   "outputs": [],
   "source": [
    "# The following codes and networks are original work by Yasinda Samaranayake in 2023."
   ]
  },
  {
   "cell_type": "code",
   "execution_count": null,
   "metadata": {
    "id": "NPma3LiA2YaP"
   },
   "outputs": [],
   "source": [
    "import tensorflow\n",
    "import numpy as np\n",
    "import seaborn as sns\n",
    "from tensorflow.keras.datasets import mnist\n",
    "from tensorflow.keras.models import Sequential\n",
    "from tensorflow.keras.layers import Dense, Dropout, Conv2D, MaxPooling2D, Flatten, BatchNormalization\n",
    "from tensorflow.keras.optimizers import RMSprop\n",
    "from tensorflow.keras.callbacks import TensorBoard\n",
    "from keras.callbacks import ModelCheckpoint, LearningRateScheduler\n",
    "from tensorflow.keras.utils import to_categorical\n",
    "\n",
    "from time import time\n",
    "from collections import Counter"
   ]
  },
  {
   "cell_type": "code",
   "execution_count": null,
   "metadata": {
    "id": "uTJlTriq2tFC"
   },
   "outputs": [],
   "source": [
    "(mnist_train_images, mnist_train_labels), (mnist_test_images, mnist_test_labels) = mnist.load_data()"
   ]
  },
  {
   "cell_type": "code",
   "execution_count": null,
   "metadata": {
    "id": "X79TEsg02uSY"
   },
   "outputs": [],
   "source": [
    "new_images = []\n",
    "new_labels = []\n",
    "class_threshold = 50\n",
    "\n",
    "one=0\n",
    "two=0\n",
    "three=0\n",
    "four=0\n",
    "five=0\n",
    "six=0\n",
    "seven=0\n",
    "eight=0\n",
    "nine=0\n",
    "zero=0\n",
    "\n",
    "for i in range(len(mnist_train_images)): #0-60000\n",
    "    if mnist_train_labels[i]==0:\n",
    "        if zero<class_threshold:\n",
    "            new_images.append(mnist_train_images[i])\n",
    "            new_labels.append(mnist_train_labels[i])\n",
    "            zero+=1\n",
    "    elif mnist_train_labels[i]==1:\n",
    "        if one<class_threshold:\n",
    "            new_images.append(mnist_train_images[i])\n",
    "            new_labels.append(mnist_train_labels[i])\n",
    "            one+=1\n",
    "    elif mnist_train_labels[i]==2:\n",
    "        if two<class_threshold:\n",
    "            new_images.append(mnist_train_images[i])\n",
    "            new_labels.append(mnist_train_labels[i])\n",
    "            two+=1\n",
    "    elif mnist_train_labels[i]==3:\n",
    "        if three<class_threshold:\n",
    "            new_images.append(mnist_train_images[i])\n",
    "            new_labels.append(mnist_train_labels[i])\n",
    "            three+=1\n",
    "    elif mnist_train_labels[i]==4:\n",
    "        if four<class_threshold:\n",
    "            new_images.append(mnist_train_images[i])\n",
    "            new_labels.append(mnist_train_labels[i])\n",
    "            four+=1\n",
    "    elif mnist_train_labels[i]==5:\n",
    "        if five<class_threshold:\n",
    "            new_images.append(mnist_train_images[i])\n",
    "            new_labels.append(mnist_train_labels[i])\n",
    "            five+=1\n",
    "    elif mnist_train_labels[i]==6:\n",
    "        if six<class_threshold:\n",
    "            new_images.append(mnist_train_images[i])\n",
    "            new_labels.append(mnist_train_labels[i])\n",
    "            six+=1\n",
    "    elif mnist_train_labels[i]==7:\n",
    "        if seven<class_threshold:\n",
    "            new_images.append(mnist_train_images[i])\n",
    "            new_labels.append(mnist_train_labels[i])\n",
    "            seven+=1\n",
    "    elif mnist_train_labels[i]==8:\n",
    "        if eight<class_threshold:\n",
    "            new_images.append(mnist_train_images[i])\n",
    "            new_labels.append(mnist_train_labels[i])\n",
    "            eight+=1\n",
    "    elif mnist_train_labels[i]==9:\n",
    "        if nine<class_threshold:\n",
    "            new_images.append(mnist_train_images[i])\n",
    "            new_labels.append(mnist_train_labels[i])\n",
    "            nine+=1"
   ]
  },
  {
   "cell_type": "code",
   "execution_count": null,
   "metadata": {
    "id": "3eeq7XAV2vdm"
   },
   "outputs": [],
   "source": [
    "#Renaming back to original name - \n",
    "mnist_train_images = np.array(new_images)\n",
    "mnist_train_labels = np.array(new_labels)"
   ]
  },
  {
   "cell_type": "code",
   "execution_count": null,
   "metadata": {
    "colab": {
     "base_uri": "https://localhost:8080/"
    },
    "id": "dL9J8_mX29ye",
    "outputId": "3c06fb84-f241-4dfe-eb49-1122cb72f56b"
   },
   "outputs": [],
   "source": [
    "print(Counter(mnist_train_labels).keys()) # equals to list(set(words))\n",
    "print(Counter(mnist_train_labels).values()) # counts the elements' frequency"
   ]
  },
  {
   "cell_type": "code",
   "execution_count": null,
   "metadata": {
    "id": "1m-ShycX29wX"
   },
   "outputs": [],
   "source": [
    "mnist_train_images = mnist_train_images.reshape((mnist_train_images.shape[0], 28, 28))\n",
    "mnist_test_images = mnist_test_images.reshape((mnist_test_images.shape[0], 28, 28))\n",
    "mnist_train_images = mnist_train_images.astype('float32')\n",
    "mnist_test_images = mnist_test_images.astype('float32')\n",
    "\n",
    "mnist_train_images = np.stack((mnist_train_images,)*3, axis=-1)\n",
    "mnist_test_images = np.stack((mnist_test_images,)*3, axis=-1)\n",
    "\n",
    "mnist_train_labels = to_categorical(mnist_train_labels)\n",
    "mnist_test_labels = to_categorical(mnist_test_labels)"
   ]
  },
  {
   "cell_type": "code",
   "execution_count": null,
   "metadata": {
    "colab": {
     "base_uri": "https://localhost:8080/"
    },
    "id": "i4Mn5DnV29qY",
    "outputId": "1597b6a0-312c-42e1-8c7f-73b7d7c69b80"
   },
   "outputs": [],
   "source": [
    "print(\"Count of training images -\", len(mnist_train_images))\n",
    "print(\"Count of testing images -\", len(mnist_test_images))\n",
    "print(\"Count of training labels -\", len(train_labels))\n",
    "print(\"Count of testing labels -\", len(test_labels))"
   ]
  },
  {
   "cell_type": "code",
   "execution_count": null,
   "metadata": {
    "id": "JQ_KmflqUTav"
   },
   "outputs": [],
   "source": [
    "import tensorflow as tf\n",
    "from tensorflow import keras\n",
    "from tensorflow.keras.applications.resnet50 import ResNet50\n",
    "from tensorflow.keras.models import Sequential\n",
    "from tensorflow.keras.layers import Dense"
   ]
  },
  {
   "cell_type": "code",
   "execution_count": null,
   "metadata": {
    "colab": {
     "base_uri": "https://localhost:8080/"
    },
    "id": "igKsnWA_a7AN",
    "outputId": "5b156a4d-fd8e-49a6-b89b-76be830c5e4b"
   },
   "outputs": [],
   "source": [
    "model = Sequential()\n",
    "model.add(ResNet50(include_top=False, pooling='avg', weights='imagenet'))\n",
    "model.add(Dense(512, activation='relu'))\n",
    "model.add(Dense(10, activation='softmax'))\n",
    "\n",
    "model.layers[0].trainable=True\n",
    "model.summary()"
   ]
  },
  {
   "cell_type": "code",
   "execution_count": null,
   "metadata": {
    "colab": {
     "base_uri": "https://localhost:8080/"
    },
    "id": "gPAyqtXg3PNK",
    "outputId": "507f9095-1632-4ec8-ec9a-9f62c534f672"
   },
   "outputs": [],
   "source": [
    "model.compile(loss='categorical_crossentropy',\n",
    "              optimizer='adam',\n",
    "              metrics=['accuracy'])\n",
    "\n",
    "cb = tensorflow.keras.callbacks.EarlyStopping(\n",
    "    monitor='val_accuracy',\n",
    "    min_delta=0,\n",
    "    patience=20,\n",
    "    mode='auto',\n",
    "    baseline=None\n",
    ")\n",
    "\n",
    "from keras.preprocessing.image import ImageDataGenerator\n",
    "\n",
    "datagen = ImageDataGenerator(\n",
    "        featurewise_center=False,\n",
    "        featurewise_std_normalization=False,\n",
    "        rotation_range=10,\n",
    "        width_shift_range=0.1,\n",
    "        height_shift_range=0.1,\n",
    "        horizontal_flip=False)\n",
    "\n",
    "datagen.fit(mnist_train_images)\n",
    "\n",
    "history = model.fit(datagen.flow(mnist_train_images, mnist_train_labels, batch_size=32), epochs=100, verbose=2, validation_data=(mnist_test_images, mnist_test_labels), callbacks=cb)\n"
   ]
  },
  {
   "cell_type": "code",
   "execution_count": null,
   "metadata": {
    "colab": {
     "base_uri": "https://localhost:8080/"
    },
    "id": "GESz-UkJ4ZO1",
    "outputId": "507edefd-5196-4e0a-d28a-b5a09f5e8b1d"
   },
   "outputs": [],
   "source": [
    "max(history.history['val_accuracy'])"
   ]
  },
  {
   "cell_type": "code",
   "execution_count": null,
   "metadata": {
    "colab": {
     "base_uri": "https://localhost:8080/"
    },
    "id": "ul2recgG3PLT",
    "outputId": "f7a9413b-8b98-401f-cf64-1c64570c501b"
   },
   "outputs": [],
   "source": [
    "from sklearn.metrics import confusion_matrix\n",
    "from sklearn.metrics import multilabel_confusion_matrix\n",
    "\n",
    "pred = model.predict(test_images)\n",
    "pred = np.argmax(pred, axis=1)\n",
    "test_labels = np.argmax(test_labels, axis=1)"
   ]
  }
 ],
 "metadata": {
  "accelerator": "GPU",
  "colab": {
   "provenance": []
  },
  "gpuClass": "standard",
  "kernelspec": {
   "display_name": "Python 3 (ipykernel)",
   "language": "python",
   "name": "python3"
  },
  "language_info": {
   "codemirror_mode": {
    "name": "ipython",
    "version": 3
   },
   "file_extension": ".py",
   "mimetype": "text/x-python",
   "name": "python",
   "nbconvert_exporter": "python",
   "pygments_lexer": "ipython3",
   "version": "3.9.12"
  }
 },
 "nbformat": 4,
 "nbformat_minor": 1
}
